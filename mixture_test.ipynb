{
 "cells": [
  {
   "cell_type": "markdown",
   "metadata": {},
   "source": [
    "# Cluster BGCs by their domains"
   ]
  },
  {
   "cell_type": "markdown",
   "metadata": {},
   "source": [
    "Cluster biosynthetic gene clusters by their protein domains, and produce an output that can be loaded into Cytoscape"
   ]
  },
  {
   "cell_type": "code",
   "execution_count": 1,
   "metadata": {
    "collapsed": false
   },
   "outputs": [],
   "source": [
    "%load_ext autoreload\n",
    "%autoreload 2\n",
    "\n",
    "%matplotlib inline"
   ]
  },
  {
   "cell_type": "code",
   "execution_count": 2,
   "metadata": {
    "collapsed": false
   },
   "outputs": [],
   "source": [
    "import os\n",
    "from glob import glob\n",
    "import pickle\n",
    "\n",
    "import matplotlib\n",
    "import matplotlib.pyplot as plt\n",
    "import numpy as np\n",
    "\n",
    "from bigscape_wrapper import run_bigscape_hmmscan, get_products\n",
    "from sklearn.feature_extraction.text import CountVectorizer\n",
    "\n",
    "from clusterer import DpMixtureGibbs"
   ]
  },
  {
   "cell_type": "markdown",
   "metadata": {},
   "source": [
    "## 1. Setup"
   ]
  },
  {
   "cell_type": "markdown",
   "metadata": {},
   "source": [
    "Path to the input and output directories"
   ]
  },
  {
   "cell_type": "code",
   "execution_count": 3,
   "metadata": {
    "collapsed": true
   },
   "outputs": [],
   "source": [
    "input_dir = '/Users/joewandy/Dropbox/Meta_clustering/MS2LDA/BGC/scripts/bigscape/input/'\n",
    "output_dir = '/Users/joewandy/Dropbox/Meta_clustering/MS2LDA/BGC/scripts/bigscape/output/'"
   ]
  },
  {
   "cell_type": "markdown",
   "metadata": {},
   "source": [
    "In the cell below, specify the paths to:\n",
    "- Bigscape codes\n",
    "- The installation location of BioPython in your virtual env (required to run hmmscan etc.)"
   ]
  },
  {
   "cell_type": "code",
   "execution_count": 4,
   "metadata": {
    "collapsed": false
   },
   "outputs": [],
   "source": [
    "bigscape_path = '/Users/joewandy/git/BiG-SCAPE/'\n",
    "biopython_path = '/Users/joewandy/anaconda/envs/bigscape/lib/python2.7/site-packages'"
   ]
  },
  {
   "cell_type": "markdown",
   "metadata": {},
   "source": [
    "Path to the pfam database that has been processed via *hmmpress*"
   ]
  },
  {
   "cell_type": "code",
   "execution_count": 5,
   "metadata": {
    "collapsed": true
   },
   "outputs": [],
   "source": [
    "pfam_dir = '/Users/joewandy/Downloads/pfam/'"
   ]
  },
  {
   "cell_type": "code",
   "execution_count": 6,
   "metadata": {
    "collapsed": false
   },
   "outputs": [],
   "source": [
    "def save_pickle(obj, filename):\n",
    "    with open(filename, 'wb') as f:\n",
    "        pickle.dump(obj, f)\n",
    "        \n",
    "def load_pickle(filename):\n",
    "    with open(filename, 'rb') as f:\n",
    "        loaded_object = pickle.load(f)\n",
    "        return loaded_object"
   ]
  },
  {
   "cell_type": "markdown",
   "metadata": {},
   "source": [
    "## 2. Extract domains using bigscape"
   ]
  },
  {
   "cell_type": "markdown",
   "metadata": {},
   "source": [
    "Run this to use bigscape to extract the FASTA files, runs hmmscan on them, and generates pfd/pfs files.\n",
    "\n",
    "Can skip this step if the files already exist!"
   ]
  },
  {
   "cell_type": "code",
   "execution_count": null,
   "metadata": {
    "collapsed": false
   },
   "outputs": [],
   "source": [
    "base_names = run_bigscape_hmmscan(input_dir, output_dir, pfam_dir, bigscape_path, biopython_path, parallel=True)"
   ]
  },
  {
   "cell_type": "markdown",
   "metadata": {
    "collapsed": true
   },
   "source": [
    "## 2. Load domain files"
   ]
  },
  {
   "cell_type": "markdown",
   "metadata": {},
   "source": [
    "Load the processed domain files produced by bigscape"
   ]
  },
  {
   "cell_type": "code",
   "execution_count": 108,
   "metadata": {
    "collapsed": false
   },
   "outputs": [],
   "source": [
    "doc_filenames = set(glob(os.path.join(output_dir, 'pfs', '*.pfs')))\n",
    "corpus = []\n",
    "bgc_names = []\n",
    "for doc_fn in doc_filenames:\n",
    "    with open(doc_fn, 'r') as f:\n",
    "        doc_lines = f.readlines()\n",
    "        doc = ' '.join(doc_lines)\n",
    "        basename = os.path.splitext(os.path.basename(doc_fn))[0]\n",
    "        corpus.append(doc)\n",
    "        bgc_names.append(basename)\n",
    "bgc_names = np.array(bgc_names)"
   ]
  },
  {
   "cell_type": "code",
   "execution_count": 109,
   "metadata": {
    "collapsed": false
   },
   "outputs": [
    {
     "name": "stdout",
     "output_type": "stream",
     "text": [
      "['KB894848.1.cluster009' 'AXVR01000001.1.cluster003'\n",
      " 'KB900388.1.cluster027' 'KB896072.1.cluster026' 'KI911412.1.cluster044'\n",
      " 'KE384268.1.cluster005' 'KB900614.1.cluster026' 'KB897006.1.cluster023'\n",
      " 'AZWE01000001.1.cluster069' 'CP000850.1.cluster033']\n"
     ]
    }
   ],
   "source": [
    "print bgc_names[0:10]"
   ]
  },
  {
   "cell_type": "markdown",
   "metadata": {},
   "source": [
    "Turn BGCs into a bag-of-word count matrix"
   ]
  },
  {
   "cell_type": "code",
   "execution_count": 110,
   "metadata": {
    "collapsed": false
   },
   "outputs": [
    {
     "name": "stdout",
     "output_type": "stream",
     "text": [
      "(1615, 1419)\n"
     ]
    }
   ],
   "source": [
    "vectorizer = CountVectorizer(token_pattern='\\w+\\.\\w+')\n",
    "counts = vectorizer.fit_transform(corpus).toarray()\n",
    "print counts.shape"
   ]
  },
  {
   "cell_type": "code",
   "execution_count": 265,
   "metadata": {
    "collapsed": false
   },
   "outputs": [
    {
     "data": {
      "text/plain": [
       "<matplotlib.text.Text at 0x1298c7650>"
      ]
     },
     "execution_count": 265,
     "metadata": {},
     "output_type": "execute_result"
    },
    {
     "data": {
      "image/png": "[encoded data removed]",
      "text/plain": [
       "<matplotlib.figure.Figure at 0x1292c8fd0>"
      ]
     },
     "metadata": {},
     "output_type": "display_data"
    }
   ],
   "source": [
    "plt.figure(figsize=(10, 10))\n",
    "plt.imshow(counts, aspect=None)\n",
    "plt.colorbar()\n",
    "plt.title('Corpus')\n",
    "plt.ylabel('BGC')\n",
    "plt.xlabel('Domain')"
   ]
  },
  {
   "cell_type": "code",
   "execution_count": 112,
   "metadata": {
    "collapsed": false
   },
   "outputs": [
    {
     "name": "stdout",
     "output_type": "stream",
     "text": [
      "[u'pf00004.28', u'pf00005.26', u'pf00006.24', u'pf00009.26', u'pf00011.20', u'pf00012.19', u'pf00013.28', u'pf00027.28', u'pf00037.26', u'pf00041.20']\n"
     ]
    }
   ],
   "source": [
    "vocab = vectorizer.get_feature_names()\n",
    "print vocab[0:10]"
   ]
  },
  {
   "cell_type": "markdown",
   "metadata": {},
   "source": [
    "Get the mapping between the bgc names, antiSMASH predicted products and Bigscape types (e.g. NRPS, RIPPs, Others, etc)"
   ]
  },
  {
   "cell_type": "code",
   "execution_count": 113,
   "metadata": {
    "collapsed": false
   },
   "outputs": [
    {
     "name": "stdout",
     "output_type": "stream",
     "text": [
      "  Warning: unknown product 'tRNA methyltransferase complex GCD14 subunit'\n",
      "  Warning: unknown product 'geranylgeranyl reductase'\n",
      "  Warning: unknown product 'hypothetical protein'\n",
      "  Warning: unknown product 'conserved hypothetical protein'\n",
      "  Warning: unknown product 'pyruvate kinase'\n",
      "  Warning: unknown product 'Gluconolactonase'\n",
      "  Warning: unknown product 'protein of unknown function DUF541'\n",
      "  Warning: unknown product 'phosphomethylpyrimidine kinase'\n",
      "  Warning: unknown product 'glycosyl transferase family 2'\n",
      "  Warning: unknown product 'major facilitator superfamily MFS_1'\n",
      "  Warning: unknown product 'hypothetical protein'\n",
      "  Warning: unknown product 'Catalase'\n",
      "  Warning: unknown product 'Nucleotidyl transferase'\n",
      "  Warning: unknown product 'protein of unknown function DUF75'\n",
      "  Warning: unknown product 'hypothetical protein'\n",
      "  Warning: unknown product 'ABC transporter related'\n",
      "  Warning: unknown product 'biotin synthase'\n",
      "  Warning: unknown product 'pyruvate kinase'\n",
      "  Warning: unknown product 'MMPL domain protein'\n",
      "  Warning: unknown product 'Methyltransferase type 11'\n",
      "  Warning: unknown product 'FAD linked oxidase domain protein'\n",
      "  Warning: unknown product 'geranylgeranyl reductase'\n",
      "  Warning: unknown product 'Holliday junction resolvase YqgF'\n",
      "  Warning: unknown product 'glycosyl transferase family 51'\n",
      "  Warning: unknown product 'cobalamin synthesis CobW domain protein'\n",
      "  Warning: unknown product 'major facilitator superfamily MFS_1'\n",
      "  Warning: unknown product 'protein of unknown function DUF35'\n",
      "  Warning: unknown product 'biotin synthase'\n",
      "  Warning: unknown product 'Methyltransferase type 11'\n",
      "  Warning: unknown product 'hypothetical protein'\n",
      "  Warning: unknown product 'hypothetical protein'\n",
      "  Warning: unknown product 'conserved hypothetical protein'\n",
      "  Warning: unknown product 'protein of unknown function DUF397'\n",
      "  Warning: unknown product 'Methyltransferase type 11'\n",
      "  Warning: unknown product 'prephenate dehydrogenase'\n",
      "  Warning: unknown product 'YD repeat protein'\n"
     ]
    }
   ],
   "source": [
    "bigscape_products, antismash_products = get_products(input_dir, bigscape_path, biopython_path)"
   ]
  },
  {
   "cell_type": "code",
   "execution_count": 266,
   "metadata": {
    "collapsed": false
   },
   "outputs": [],
   "source": [
    "# for bgc in bgc_names:\n",
    "#     print bgc, antismash_products[bgc], bigscape_products[bgc]"
   ]
  },
  {
   "cell_type": "code",
   "execution_count": 115,
   "metadata": {
    "collapsed": false
   },
   "outputs": [],
   "source": [
    "save_pickle(counts, 'mixture_test/counts.p')\n",
    "save_pickle(vocab, 'mixture_test/vocab.p')\n",
    "save_pickle(bigscape_products, 'mixture_test/bigscape_products.p')\n",
    "save_pickle(antismash_products, 'mixture_test/antismash_products.p')\n",
    "save_pickle(bgc_names, 'mixture_test/bgc_names.p')"
   ]
  },
  {
   "cell_type": "markdown",
   "metadata": {},
   "source": [
    "## 3. Run clustering"
   ]
  },
  {
   "cell_type": "code",
   "execution_count": 116,
   "metadata": {
    "collapsed": true
   },
   "outputs": [],
   "source": [
    "counts = load_pickle('mixture_test/counts.p')\n",
    "bigscape_products = load_pickle('mixture_test/bigscape_products.p')\n",
    "antismash_products = load_pickle('mixture_test/antismash_products.p')\n",
    "bgc_names = load_pickle('mixture_test/bgc_names.p')"
   ]
  },
  {
   "cell_type": "markdown",
   "metadata": {},
   "source": [
    "Assign each BGC product type to a number"
   ]
  },
  {
   "cell_type": "code",
   "execution_count": 117,
   "metadata": {
    "collapsed": false,
    "scrolled": true
   },
   "outputs": [
    {
     "name": "stdout",
     "output_type": "stream",
     "text": [
      "0 NRPS\n",
      "1 Others\n",
      "2 PKS-NRP_Hybrids\n",
      "3 PKSI\n",
      "4 PKSother\n",
      "5 RiPPs\n",
      "6 Saccharide\n",
      "7 Saccharides\n",
      "8 Terpene\n",
      "\n"
     ]
    }
   ],
   "source": [
    "bgc_types = {}\n",
    "for i, t in enumerate(sorted(set(bigscape_products.values()))):\n",
    "    print i, t\n",
    "    bgc_types[t] = i    \n",
    "print\n",
    "\n",
    "bgc_types_arr = []\n",
    "for bgc_name in bgc_names:\n",
    "    prod = bigscape_products[bgc_name]\n",
    "    bgc_type = bgc_types[prod]\n",
    "    bgc_types_arr.append(bgc_type)\n",
    "bgc_types_arr = np.array(bgc_types_arr)"
   ]
  },
  {
   "cell_type": "markdown",
   "metadata": {},
   "source": [
    "Select the NRPS type BGCs for clustering. First select 'NRPS' and 'PKS-NRP_Hybrids'"
   ]
  },
  {
   "cell_type": "code",
   "execution_count": 268,
   "metadata": {
    "collapsed": false
   },
   "outputs": [
    {
     "name": "stdout",
     "output_type": "stream",
     "text": [
      "(110,)\n"
     ]
    }
   ],
   "source": [
    "idx = np.where(bgc_types_arr == 0) # NRPS\n",
    "idx = np.append(idx, np.where(bgc_types_arr == 2)) # PKS-NRP_Hybrids\n",
    "print idx.shape"
   ]
  },
  {
   "cell_type": "markdown",
   "metadata": {},
   "source": [
    "Then select 'Others' but having 'nrps' in the antiSmash products"
   ]
  },
  {
   "cell_type": "code",
   "execution_count": 269,
   "metadata": {
    "collapsed": false
   },
   "outputs": [
    {
     "name": "stdout",
     "output_type": "stream",
     "text": [
      "(159,)\n"
     ]
    }
   ],
   "source": [
    "other_idx = []\n",
    "for i in np.where(bgc_types_arr == 1)[0]: # Others\n",
    "    bgc_name = bgc_names[i]\n",
    "    bigscape_prod = bigscape_products[bgc_name]    \n",
    "    antismash_prod = antismash_products[bgc_name]  \n",
    "    if 'nrps' in antismash_prod.lower():\n",
    "        other_idx.append(i)\n",
    "        # print bgc_name, bigscape_prod, antismash_prod \n",
    "        \n",
    "idx = np.append(idx, other_idx)\n",
    "print idx.shape"
   ]
  },
  {
   "cell_type": "markdown",
   "metadata": {},
   "source": [
    "Cluster the NRPS type BGCs"
   ]
  },
  {
   "cell_type": "code",
   "execution_count": 270,
   "metadata": {
    "collapsed": false
   },
   "outputs": [
    {
     "name": "stdout",
     "output_type": "stream",
     "text": [
      "(159, 1419)\n"
     ]
    },
    {
     "data": {
      "text/plain": [
       "<matplotlib.text.Text at 0x129cc9dd0>"
      ]
     },
     "execution_count": 270,
     "metadata": {},
     "output_type": "execute_result"
    },
    {
     "data": {
      "image/png": "[encoded data removed]",
      "text/plain": [
       "<matplotlib.figure.Figure at 0x1241d9810>"
      ]
     },
     "metadata": {},
     "output_type": "display_data"
    }
   ],
   "source": [
    "data = counts[idx]\n",
    "print data.shape\n",
    "\n",
    "plt.figure(figsize=(15, 7))\n",
    "plt.imshow(data, aspect='auto', interpolation='nearest')\n",
    "plt.ylabel('BGC')\n",
    "plt.xlabel('Domain')\n",
    "plt.title('NRPS -- Corpus')"
   ]
  },
  {
   "cell_type": "code",
   "execution_count": 273,
   "metadata": {
    "collapsed": false,
    "scrolled": true
   },
   "outputs": [
    {
     "name": "stdout",
     "output_type": "stream",
     "text": [
      "Sampling begins\n",
      "\tBURN-IN 1\ttime 0.16\tnumClusters 4\n",
      "\tBURN-IN 2\ttime 0.19\tnumClusters 4\n",
      "\tBURN-IN 3\ttime 0.19\tnumClusters 4\n",
      "\tBURN-IN 4\ttime 0.18\tnumClusters 4\n",
      "\tBURN-IN 5\ttime 0.19\tnumClusters 4\n",
      "\tBURN-IN 6\ttime 0.19\tnumClusters 4\n",
      "\tBURN-IN 7\ttime 0.20\tnumClusters 5\n",
      "\tBURN-IN 8\ttime 0.19\tnumClusters 4\n",
      "\tBURN-IN 9\ttime 0.19\tnumClusters 4\n",
      "\tBURN-IN 10\ttime 0.18\tnumClusters 4\n",
      "\tBURN-IN 11\ttime 0.18\tnumClusters 4\n",
      "\tBURN-IN 12\ttime 0.18\tnumClusters 4\n",
      "\tBURN-IN 13\ttime 0.19\tnumClusters 4\n",
      "\tBURN-IN 14\ttime 0.19\tnumClusters 4\n",
      "\tBURN-IN 15\ttime 0.18\tnumClusters 4\n",
      "\tBURN-IN 16\ttime 0.19\tnumClusters 4\n",
      "\tBURN-IN 17\ttime 0.19\tnumClusters 4\n",
      "\tBURN-IN 18\ttime 0.20\tnumClusters 5\n",
      "\tBURN-IN 19\ttime 0.19\tnumClusters 4\n",
      "\tBURN-IN 20\ttime 0.19\tnumClusters 4\n",
      "\tSAMPLE 21\ttime 0.19\tnumClusters 4\n",
      "\tSAMPLE 22\ttime 0.18\tnumClusters 4\n",
      "\tSAMPLE 23\ttime 0.18\tnumClusters 4\n",
      "\tSAMPLE 24\ttime 0.19\tnumClusters 4\n",
      "\tSAMPLE 25\ttime 0.17\tnumClusters 4\n",
      "\tSAMPLE 26\ttime 0.18\tnumClusters 4\n",
      "\tSAMPLE 27\ttime 0.18\tnumClusters 5\n",
      "\tSAMPLE 28\ttime 0.21\tnumClusters 5\n",
      "\tSAMPLE 29\ttime 0.21\tnumClusters 4\n",
      "\tSAMPLE 30\ttime 0.18\tnumClusters 4\n",
      "\tSAMPLE 31\ttime 0.18\tnumClusters 4\n",
      "\tSAMPLE 32\ttime 0.17\tnumClusters 4\n",
      "\tSAMPLE 33\ttime 0.17\tnumClusters 4\n",
      "\tSAMPLE 34\ttime 0.17\tnumClusters 4\n",
      "\tSAMPLE 35\ttime 0.17\tnumClusters 4\n",
      "\tSAMPLE 36\ttime 0.18\tnumClusters 4\n",
      "\tSAMPLE 37\ttime 0.19\tnumClusters 4\n",
      "\tSAMPLE 38\ttime 0.18\tnumClusters 4\n",
      "\tSAMPLE 39\ttime 0.24\tnumClusters 5\n",
      "\tSAMPLE 40\ttime 0.19\tnumClusters 4\n",
      "\tSAMPLE 41\ttime 0.16\tnumClusters 4\n",
      "\tSAMPLE 42\ttime 0.17\tnumClusters 4\n",
      "\tSAMPLE 43\ttime 0.18\tnumClusters 4\n",
      "\tSAMPLE 44\ttime 0.16\tnumClusters 4\n",
      "\tSAMPLE 45\ttime 0.17\tnumClusters 4\n",
      "\tSAMPLE 46\ttime 0.17\tnumClusters 4\n",
      "\tSAMPLE 47\ttime 0.18\tnumClusters 5\n",
      "\tSAMPLE 48\ttime 0.18\tnumClusters 4\n",
      "\tSAMPLE 49\ttime 0.18\tnumClusters 5\n",
      "\tSAMPLE 50\ttime 0.19\tnumClusters 4\n",
      "\tSAMPLE 51\ttime 0.17\tnumClusters 4\n",
      "\tSAMPLE 52\ttime 0.16\tnumClusters 4\n",
      "\tSAMPLE 53\ttime 0.16\tnumClusters 4\n",
      "\tSAMPLE 54\ttime 0.16\tnumClusters 4\n",
      "\tSAMPLE 55\ttime 0.16\tnumClusters 4\n",
      "\tSAMPLE 56\ttime 0.16\tnumClusters 4\n",
      "\tSAMPLE 57\ttime 0.18\tnumClusters 5\n",
      "\tSAMPLE 58\ttime 0.18\tnumClusters 4\n",
      "\tSAMPLE 59\ttime 0.18\tnumClusters 4\n",
      "\tSAMPLE 60\ttime 0.19\tnumClusters 4\n",
      "\tSAMPLE 61\ttime 0.18\tnumClusters 4\n",
      "\tSAMPLE 62\ttime 0.17\tnumClusters 4\n",
      "\tSAMPLE 63\ttime 0.17\tnumClusters 4\n",
      "\tSAMPLE 64\ttime 0.17\tnumClusters 4\n",
      "\tSAMPLE 65\ttime 0.20\tnumClusters 5\n",
      "\tSAMPLE 66\ttime 0.18\tnumClusters 4\n",
      "\tSAMPLE 67\ttime 0.18\tnumClusters 4\n",
      "\tSAMPLE 68\ttime 0.16\tnumClusters 4\n",
      "\tSAMPLE 69\ttime 0.17\tnumClusters 5\n",
      "\tSAMPLE 70\ttime 0.17\tnumClusters 4\n",
      "\tSAMPLE 71\ttime 0.16\tnumClusters 4\n",
      "\tSAMPLE 72\ttime 0.16\tnumClusters 4\n",
      "\tSAMPLE 73\ttime 0.19\tnumClusters 4\n",
      "\tSAMPLE 74\ttime 0.17\tnumClusters 5\n",
      "\tSAMPLE 75\ttime 0.18\tnumClusters 4\n",
      "\tSAMPLE 76\ttime 0.18\tnumClusters 5\n",
      "\tSAMPLE 77\ttime 0.19\tnumClusters 4\n",
      "\tSAMPLE 78\ttime 0.19\tnumClusters 4\n",
      "\tSAMPLE 79\ttime 0.17\tnumClusters 4\n",
      "\tSAMPLE 80\ttime 0.19\tnumClusters 4\n",
      "\tSAMPLE 81\ttime 0.17\tnumClusters 4\n",
      "\tSAMPLE 82\ttime 0.18\tnumClusters 5\n",
      "\tSAMPLE 83\ttime 0.20\tnumClusters 4\n",
      "\tSAMPLE 84\ttime 0.18\tnumClusters 4\n",
      "\tSAMPLE 85\ttime 0.18\tnumClusters 4\n",
      "\tSAMPLE 86\ttime 0.18\tnumClusters 4\n",
      "\tSAMPLE 87\ttime 0.18\tnumClusters 4\n",
      "\tSAMPLE 88\ttime 0.19\tnumClusters 5\n",
      "\tSAMPLE 89\ttime 0.19\tnumClusters 4\n",
      "\tSAMPLE 90\ttime 0.18\tnumClusters 4\n",
      "\tSAMPLE 91\ttime 0.19\tnumClusters 5\n",
      "\tSAMPLE 92\ttime 0.19\tnumClusters 4\n",
      "\tSAMPLE 93\ttime 0.18\tnumClusters 5\n",
      "\tSAMPLE 94\ttime 0.20\tnumClusters 5\n",
      "\tSAMPLE 95\ttime 0.19\tnumClusters 4\n",
      "\tSAMPLE 96\ttime 0.18\tnumClusters 4\n",
      "\tSAMPLE 97\ttime 0.18\tnumClusters 4\n",
      "\tSAMPLE 98\ttime 0.18\tnumClusters 4\n",
      "\tSAMPLE 99\ttime 0.18\tnumClusters 4\n",
      "\tSAMPLE 100\ttime 0.18\tnumClusters 4\n",
      "DONE!\n"
     ]
    }
   ],
   "source": [
    "alpha = 100      # dp concentration parameter\n",
    "beta = 0.1       # multinomial parameter\n",
    "clusterer = DpMixtureGibbs(data, alpha, beta, nsamps=100, burnin=20, seed=123)\n",
    "clusterer.run()"
   ]
  },
  {
   "cell_type": "code",
   "execution_count": 274,
   "metadata": {
    "collapsed": true
   },
   "outputs": [],
   "source": [
    "save_pickle(clusterer, 'mixture_test/clusterer.p')"
   ]
  },
  {
   "cell_type": "markdown",
   "metadata": {
    "collapsed": true
   },
   "source": [
    "## 3. Generate output"
   ]
  },
  {
   "cell_type": "code",
   "execution_count": 275,
   "metadata": {
    "collapsed": false
   },
   "outputs": [],
   "source": [
    "clusterer = load_pickle('mixture_test/clusterer.p')"
   ]
  },
  {
   "cell_type": "code",
   "execution_count": 276,
   "metadata": {
    "collapsed": false
   },
   "outputs": [
    {
     "data": {
      "text/plain": [
       "<matplotlib.text.Text at 0x129d68d50>"
      ]
     },
     "execution_count": 276,
     "metadata": {},
     "output_type": "execute_result"
    },
    {
     "data": {
      "image/png": "[encoded data removed]",
      "text/plain": [
       "<matplotlib.figure.Figure at 0x129d4f910>"
      ]
     },
     "metadata": {},
     "output_type": "display_data"
    }
   ],
   "source": [
    "ZZ_all = clusterer.ZZ_all.todense()/clusterer.samples_obtained\n",
    "plt.figure(figsize=(10, 10))\n",
    "plt.imshow(ZZ_all)\n",
    "plt.colorbar()\n",
    "plt.title('Probability of being in the same cluster (NRPS)')\n",
    "plt.xlabel('BGC')\n",
    "plt.ylabel('BGC')"
   ]
  },
  {
   "cell_type": "code",
   "execution_count": 277,
   "metadata": {
    "collapsed": false,
    "scrolled": true
   },
   "outputs": [
    {
     "name": "stdout",
     "output_type": "stream",
     "text": [
      "14489\n",
      "13089\n",
      "12955\n"
     ]
    }
   ],
   "source": [
    "print np.sum(ZZ_all > 0.0)\n",
    "print np.sum(ZZ_all > 0.5)\n",
    "print np.sum(ZZ_all > 0.9)"
   ]
  },
  {
   "cell_type": "code",
   "execution_count": 278,
   "metadata": {
    "collapsed": false
   },
   "outputs": [
    {
     "data": {
      "text/plain": [
       "<matplotlib.text.Text at 0x12a3cbb90>"
      ]
     },
     "execution_count": 278,
     "metadata": {},
     "output_type": "execute_result"
    },
    {
     "data": {
      "image/png": "[encoded data removed]",
      "text/plain": [
       "<matplotlib.figure.Figure at 0x129e83c10>"
      ]
     },
     "metadata": {},
     "output_type": "display_data"
    }
   ],
   "source": [
    "plt.figure(figsize=(5, 10))\n",
    "plt.imshow(clusterer.Z.todense(), aspect='auto', interpolation='nearest')\n",
    "plt.title('Clustering')\n",
    "plt.xlabel('k')\n",
    "plt.ylabel('BGC')"
   ]
  },
  {
   "cell_type": "markdown",
   "metadata": {},
   "source": [
    "Compare against current bigscape output"
   ]
  },
  {
   "cell_type": "code",
   "execution_count": null,
   "metadata": {
    "collapsed": true
   },
   "outputs": [],
   "source": []
  }
 ],
 "metadata": {
  "kernelspec": {
   "display_name": "Python [default]",
   "language": "python",
   "name": "python2"
  },
  "language_info": {
   "codemirror_mode": {
    "name": "ipython",
    "version": 2
   },
   "file_extension": ".py",
   "mimetype": "text/x-python",
   "name": "python",
   "nbconvert_exporter": "python",
   "pygments_lexer": "ipython2",
   "version": "2.7.13"
  }
 },
 "nbformat": 4,
 "nbformat_minor": 2
}
